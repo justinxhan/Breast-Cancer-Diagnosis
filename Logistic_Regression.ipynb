{
 "cells": [
  {
   "cell_type": "markdown",
   "id": "7d67e7d9",
   "metadata": {},
   "source": [
    "# Logistic Regression\n",
    "Logistic regression is a linear model used for binary classification problems. It models the probability of the default class (usually the positive class) given the input features.\n",
    "Logistic regression computes a linear decision boundary, which separates the classes in the feature space.\n",
    "It learns the coefficients (weights) of the input features through optimization methods such as gradient descent.\n",
    "Logistic regression is generally faster to train and evaluate compared to kNN, especially with large datasets.\n",
    "Cross-validation for logistic regression typically involves splitting the data into folds, training the model on multiple folds, and evaluating on the remaining fold to estimate performance metrics like accuracy, precision, recall, etc.\n",
    "Logistic regression's cross-validation focuses on optimizing the model's parameters (like regularization strength) to minimize error in predictions."
   ]
  },
  {
   "cell_type": "code",
   "execution_count": 1,
   "id": "47515d64",
   "metadata": {},
   "outputs": [],
   "source": [
    "import numpy as np \n",
    "import pandas as pd \n",
    "import matplotlib.pyplot as plt \n"
   ]
  },
  {
   "cell_type": "code",
   "execution_count": 2,
   "id": "d18d3201",
   "metadata": {},
   "outputs": [
    {
     "name": "stdout",
     "output_type": "stream",
     "text": [
      "<bound method NDFrame.head of            id diagnosis  radius_mean  texture_mean  perimeter_mean  area_mean  \\\n",
      "0      842302         M        17.99         10.38          122.80     1001.0   \n",
      "1      842517         M        20.57         17.77          132.90     1326.0   \n",
      "2    84300903         M        19.69         21.25          130.00     1203.0   \n",
      "3    84348301         M        11.42         20.38           77.58      386.1   \n",
      "4    84358402         M        20.29         14.34          135.10     1297.0   \n",
      "..        ...       ...          ...           ...             ...        ...   \n",
      "564    926424         M        21.56         22.39          142.00     1479.0   \n",
      "565    926682         M        20.13         28.25          131.20     1261.0   \n",
      "566    926954         M        16.60         28.08          108.30      858.1   \n",
      "567    927241         M        20.60         29.33          140.10     1265.0   \n",
      "568     92751         B         7.76         24.54           47.92      181.0   \n",
      "\n",
      "     smoothness_mean  compactness_mean  concavity_mean  concave points_mean  \\\n",
      "0            0.11840           0.27760         0.30010              0.14710   \n",
      "1            0.08474           0.07864         0.08690              0.07017   \n",
      "2            0.10960           0.15990         0.19740              0.12790   \n",
      "3            0.14250           0.28390         0.24140              0.10520   \n",
      "4            0.10030           0.13280         0.19800              0.10430   \n",
      "..               ...               ...             ...                  ...   \n",
      "564          0.11100           0.11590         0.24390              0.13890   \n",
      "565          0.09780           0.10340         0.14400              0.09791   \n",
      "566          0.08455           0.10230         0.09251              0.05302   \n",
      "567          0.11780           0.27700         0.35140              0.15200   \n",
      "568          0.05263           0.04362         0.00000              0.00000   \n",
      "\n",
      "     ...  texture_worst  perimeter_worst  area_worst  smoothness_worst  \\\n",
      "0    ...          17.33           184.60      2019.0           0.16220   \n",
      "1    ...          23.41           158.80      1956.0           0.12380   \n",
      "2    ...          25.53           152.50      1709.0           0.14440   \n",
      "3    ...          26.50            98.87       567.7           0.20980   \n",
      "4    ...          16.67           152.20      1575.0           0.13740   \n",
      "..   ...            ...              ...         ...               ...   \n",
      "564  ...          26.40           166.10      2027.0           0.14100   \n",
      "565  ...          38.25           155.00      1731.0           0.11660   \n",
      "566  ...          34.12           126.70      1124.0           0.11390   \n",
      "567  ...          39.42           184.60      1821.0           0.16500   \n",
      "568  ...          30.37            59.16       268.6           0.08996   \n",
      "\n",
      "     compactness_worst  concavity_worst  concave points_worst  symmetry_worst  \\\n",
      "0              0.66560           0.7119                0.2654          0.4601   \n",
      "1              0.18660           0.2416                0.1860          0.2750   \n",
      "2              0.42450           0.4504                0.2430          0.3613   \n",
      "3              0.86630           0.6869                0.2575          0.6638   \n",
      "4              0.20500           0.4000                0.1625          0.2364   \n",
      "..                 ...              ...                   ...             ...   \n",
      "564            0.21130           0.4107                0.2216          0.2060   \n",
      "565            0.19220           0.3215                0.1628          0.2572   \n",
      "566            0.30940           0.3403                0.1418          0.2218   \n",
      "567            0.86810           0.9387                0.2650          0.4087   \n",
      "568            0.06444           0.0000                0.0000          0.2871   \n",
      "\n",
      "     fractal_dimension_worst  Unnamed: 32  \n",
      "0                    0.11890          NaN  \n",
      "1                    0.08902          NaN  \n",
      "2                    0.08758          NaN  \n",
      "3                    0.17300          NaN  \n",
      "4                    0.07678          NaN  \n",
      "..                       ...          ...  \n",
      "564                  0.07115          NaN  \n",
      "565                  0.06637          NaN  \n",
      "566                  0.07820          NaN  \n",
      "567                  0.12400          NaN  \n",
      "568                  0.07039          NaN  \n",
      "\n",
      "[569 rows x 33 columns]>\n"
     ]
    }
   ],
   "source": [
    "data = pd.read_csv(\"data.csv\") \n",
    "\n",
    "print (data.head) \n"
   ]
  },
  {
   "cell_type": "code",
   "execution_count": 3,
   "id": "edd71646",
   "metadata": {},
   "outputs": [
    {
     "name": "stdout",
     "output_type": "stream",
     "text": [
      "<class 'pandas.core.frame.DataFrame'>\n",
      "RangeIndex: 569 entries, 0 to 568\n",
      "Data columns (total 33 columns):\n",
      " #   Column                   Non-Null Count  Dtype  \n",
      "---  ------                   --------------  -----  \n",
      " 0   id                       569 non-null    int64  \n",
      " 1   diagnosis                569 non-null    object \n",
      " 2   radius_mean              569 non-null    float64\n",
      " 3   texture_mean             569 non-null    float64\n",
      " 4   perimeter_mean           569 non-null    float64\n",
      " 5   area_mean                569 non-null    float64\n",
      " 6   smoothness_mean          569 non-null    float64\n",
      " 7   compactness_mean         569 non-null    float64\n",
      " 8   concavity_mean           569 non-null    float64\n",
      " 9   concave points_mean      569 non-null    float64\n",
      " 10  symmetry_mean            569 non-null    float64\n",
      " 11  fractal_dimension_mean   569 non-null    float64\n",
      " 12  radius_se                569 non-null    float64\n",
      " 13  texture_se               569 non-null    float64\n",
      " 14  perimeter_se             569 non-null    float64\n",
      " 15  area_se                  569 non-null    float64\n",
      " 16  smoothness_se            569 non-null    float64\n",
      " 17  compactness_se           569 non-null    float64\n",
      " 18  concavity_se             569 non-null    float64\n",
      " 19  concave points_se        569 non-null    float64\n",
      " 20  symmetry_se              569 non-null    float64\n",
      " 21  fractal_dimension_se     569 non-null    float64\n",
      " 22  radius_worst             569 non-null    float64\n",
      " 23  texture_worst            569 non-null    float64\n",
      " 24  perimeter_worst          569 non-null    float64\n",
      " 25  area_worst               569 non-null    float64\n",
      " 26  smoothness_worst         569 non-null    float64\n",
      " 27  compactness_worst        569 non-null    float64\n",
      " 28  concavity_worst          569 non-null    float64\n",
      " 29  concave points_worst     569 non-null    float64\n",
      " 30  symmetry_worst           569 non-null    float64\n",
      " 31  fractal_dimension_worst  569 non-null    float64\n",
      " 32  Unnamed: 32              0 non-null      float64\n",
      "dtypes: float64(31), int64(1), object(1)\n",
      "memory usage: 146.8+ KB\n"
     ]
    }
   ],
   "source": [
    "data.info() "
   ]
  },
  {
   "cell_type": "code",
   "execution_count": 4,
   "id": "dbf841a4",
   "metadata": {},
   "outputs": [],
   "source": [
    "data.drop(['Unnamed: 32', 'id'], axis = 1, inplace=True) \n",
    "\n",
    "# convert diagnosis from categorical to binary values\n",
    "data.diagnosis = [1 if each == \"M\" else 0 for each in data.diagnosis] "
   ]
  },
  {
   "cell_type": "code",
   "execution_count": 5,
   "id": "d747e1f5",
   "metadata": {},
   "outputs": [],
   "source": [
    "y = data.diagnosis.values \n",
    "x_data = data.drop(['diagnosis'], axis = 1) \n",
    "\n",
    "# normalisation\n",
    "#x = (x_data - np.min(x_data))/(np.max(x_data) - np.min(x_data))\n"
   ]
  },
  {
   "cell_type": "code",
   "execution_count": 6,
   "id": "b73fe12f",
   "metadata": {},
   "outputs": [
    {
     "name": "stdout",
     "output_type": "stream",
     "text": [
      "x train:  (30, 483)\n",
      "x test:  (30, 86)\n",
      "y train:  (483,)\n",
      "y test:  (86,)\n"
     ]
    }
   ],
   "source": [
    "from sklearn.model_selection import train_test_split\n",
    "from sklearn.preprocessing import MinMaxScaler\n",
    "\n",
    "scaler = MinMaxScaler()\n",
    "x = scaler.fit_transform(x_data)\n",
    "\n",
    "x_train, x_test, y_train, y_test = train_test_split( \n",
    "    x, y, test_size = 0.15, random_state = 42) \n",
    "  \n",
    "x_train = x_train.T \n",
    "x_test = x_test.T \n",
    "y_train = y_train.T \n",
    "y_test = y_test.T \n",
    "  \n",
    "print(\"x train: \", x_train.shape) \n",
    "print(\"x test: \", x_test.shape) \n",
    "print(\"y train: \", y_train.shape) \n",
    "print(\"y test: \", y_test.shape) "
   ]
  },
  {
   "cell_type": "code",
   "execution_count": 7,
   "id": "1e0ef36c",
   "metadata": {},
   "outputs": [
    {
     "name": "stdout",
     "output_type": "stream",
     "text": [
      "NaN in x_train: False\n",
      "NaN in y_train: False\n",
      "NaN in x_test: False\n",
      "NaN in y_test: False\n"
     ]
    }
   ],
   "source": [
    "print(\"NaN in x_train:\", np.isnan(x_train).any())\n",
    "print(\"NaN in y_train:\", np.isnan(y_train).any())\n",
    "print(\"NaN in x_test:\", np.isnan(x_test).any())\n",
    "print(\"NaN in y_test:\", np.isnan(y_test).any())"
   ]
  },
  {
   "cell_type": "code",
   "execution_count": 8,
   "id": "5bbc99fd",
   "metadata": {},
   "outputs": [],
   "source": [
    "def initialize_weights_and_bias(dimension):\n",
    "    # randomized weights to ensure no uniformity\n",
    "    w = np.random.randn(dimension, 1) * 0.01\n",
    "    b = 0.0\n",
    "    return w, b\n",
    "\n",
    "# sigmoid function\n",
    "def sigmoid(z): \n",
    "    y_head = 1/(1 + np.exp(-z)) \n",
    "    return y_head \n"
   ]
  },
  {
   "cell_type": "code",
   "execution_count": 9,
   "id": "782a9d84",
   "metadata": {},
   "outputs": [
    {
     "data": {
      "text/plain": [
       "'\\nForward Propagation:\\n\\n    1. Input: We start with input features X and weights W (including a bias term).\\n    2. Linear combination: We compute Z = W * X + b, where b is the bias term.\\n    3. Activation: We apply the sigmoid function σ(Z) to get the predicted probability:\\n        Y_pred = σ(Z) = 1 / (1 + e^(-Z))\\n\\n\\nBackward Propagation:\\n\\n    1. Compute the error: We calculate the difference between the predicted value and the actual value.\\n        Error = Y_pred - Y_actual\\n    2. Compute the gradient: We calculate how much each weight contributed to the error.\\n        dW = (1/m) * X * (Y_pred - Y_actual)\\n        db = (1/m) * sum(Y_pred - Y_actual)\\n        Where m is the number of training examples.\\n    3. Update weights and bias: We adjust the weights and bias using the calculated gradients.\\n        W = W - learning_rate * dW\\n        b = b - learning_rate * db\\n        The learning rate determines how big of a step we take in the direction of the gradient.\\n'"
      ]
     },
     "execution_count": 9,
     "metadata": {},
     "output_type": "execute_result"
    }
   ],
   "source": [
    "'''\n",
    "Forward Propagation:\n",
    "\n",
    "    1. Input: We start with input features X and weights W (including a bias term).\n",
    "    2. Linear combination: We compute Z = W * X + b, where b is the bias term.\n",
    "    3. Activation: We apply the sigmoid function σ(Z) to get the predicted probability:\n",
    "        Y_pred = σ(Z) = 1 / (1 + e^(-Z))\n",
    "\n",
    "\n",
    "Backward Propagation:\n",
    "\n",
    "    1. Compute the error: We calculate the difference between the predicted value and the actual value.\n",
    "        Error = Y_pred - Y_actual\n",
    "    2. Compute the gradient: We calculate how much each weight contributed to the error.\n",
    "        dW = (1/m) * X * (Y_pred - Y_actual)\n",
    "        db = (1/m) * sum(Y_pred - Y_actual)\n",
    "        Where m is the number of training examples.\n",
    "    3. Update weights and bias: We adjust the weights and bias using the calculated gradients.\n",
    "        W = W - learning_rate * dW\n",
    "        b = b - learning_rate * db\n",
    "        The learning rate determines how big of a step we take in the direction of the gradient.\n",
    "'''"
   ]
  },
  {
   "cell_type": "code",
   "execution_count": 10,
   "id": "9d42d70d",
   "metadata": {},
   "outputs": [],
   "source": [
    "def forward_backward_propagation(w, b, x_train, y_train):\n",
    "    # Small value to avoid log(0)\n",
    "    epsilon = 1e-15\n",
    "    \n",
    "    z = np.dot(w.T, x_train) + b\n",
    "    y_head = sigmoid(z)\n",
    "    \n",
    "    # Clip y_head to avoid log(0) or log(1)\n",
    "    y_head_clipped = np.clip(y_head, epsilon, 1 - epsilon)\n",
    "    \n",
    "    # x_train.shape[1]  is for scaling \n",
    "    loss = - y_train * np.log(y_head_clipped) - (1 - y_train) * np.log(1 - y_head_clipped)\n",
    "    cost = (np.sum(loss)) / x_train.shape[1]\n",
    "    \n",
    "    # backward propagation\n",
    "    derivative_weight = (np.dot(x_train, ((y_head - y_train).T))) / x_train.shape[1]\n",
    "    derivative_bias = np.sum(y_head - y_train) / x_train.shape[1]\n",
    "    gradients = {\"derivative_weight\": derivative_weight, \"derivative_bias\": derivative_bias}\n",
    "    \n",
    "    return cost, gradients"
   ]
  },
  {
   "cell_type": "code",
   "execution_count": 11,
   "id": "f5359b07",
   "metadata": {},
   "outputs": [],
   "source": [
    "# update weights\n",
    "def update(w, b, x_train, y_train, learning_rate, num_iter):\n",
    "    cost_list = []\n",
    "    cost_list2 = []\n",
    "    index = []\n",
    "\n",
    "    for i in range(num_iter):\n",
    "        # make forward and backward propagation and find cost and gradients\n",
    "        cost, gradients = forward_backward_propagation(w, b, x_train, y_train)\n",
    "        cost_list.append(cost)\n",
    "\n",
    "        # update\n",
    "        w = w - learning_rate * gradients[\"derivative_weight\"]\n",
    "        b = b - learning_rate * gradients[\"derivative_bias\"]\n",
    "        \n",
    "        if i % 10 == 0:\n",
    "            cost_list2.append(cost)\n",
    "            index.append(i)\n",
    "            print(\"Cost after iteration %i: %f\" % (i, cost))\n",
    "\n",
    "    plt.plot(index, cost_list2)\n",
    "    plt.xticks(index, rotation='vertical')\n",
    "    plt.xlabel(\"Number of Iteration\")\n",
    "    plt.ylabel(\"Cost\")\n",
    "    plt.show()\n",
    "    \n",
    "    return {\"weight\": w, \"bias\": b}, gradients, cost_list"
   ]
  },
  {
   "cell_type": "code",
   "execution_count": 12,
   "id": "5488ce39",
   "metadata": {},
   "outputs": [],
   "source": [
    "# predict values\n",
    "def predict(w, b, x_test): \n",
    "    # x_test is a input for forward propagation \n",
    "    z = sigmoid(np.dot(w.T, x_test)+b) \n",
    "    Y_prediction = np.zeros((1, x_test.shape[1])) \n",
    "  \n",
    "    # if z is bigger than 0.5, our prediction is sign one (y_head = 1), \n",
    "    # if z is smaller than 0.5, our prediction is sign zero (y_head = 0), \n",
    "    for i in range(z.shape[1]): \n",
    "        if z[0, i]<= 0.5: \n",
    "            Y_prediction[0, i] = 0\n",
    "        else: \n",
    "            Y_prediction[0, i] = 1\n",
    "  \n",
    "    return Y_prediction "
   ]
  },
  {
   "cell_type": "code",
   "execution_count": 13,
   "id": "d4c1d7fb",
   "metadata": {},
   "outputs": [
    {
     "name": "stdout",
     "output_type": "stream",
     "text": [
      "Cost after iteration 0: 0.693913\n",
      "Cost after iteration 10: 0.690836\n",
      "Cost after iteration 20: 0.687832\n",
      "Cost after iteration 30: 0.684895\n",
      "Cost after iteration 40: 0.682017\n",
      "Cost after iteration 50: 0.679193\n",
      "Cost after iteration 60: 0.676418\n",
      "Cost after iteration 70: 0.673687\n",
      "Cost after iteration 80: 0.670998\n",
      "Cost after iteration 90: 0.668347\n"
     ]
    },
    {
     "data": {
      "image/png": "[encoded data removed]",
      "text/plain": [
       "<Figure size 640x480 with 1 Axes>"
      ]
     },
     "metadata": {},
     "output_type": "display_data"
    },
    {
     "name": "stdout",
     "output_type": "stream",
     "text": [
      "train accuracy: 74.53 %\n",
      "test accuracy: 75.58 %\n"
     ]
    }
   ],
   "source": [
    "def logistic_regression(x_train, y_train, x_test, y_test, learning_rate, num_iterations):\n",
    "    dimension = x_train.shape[0]\n",
    "    w, b = initialize_weights_and_bias(dimension)\n",
    "    \n",
    "    parameters, gradients, cost_list = update(w, b, x_train, y_train, learning_rate, num_iterations)\n",
    "    \n",
    "    y_prediction_test = predict(parameters[\"weight\"], parameters[\"bias\"], x_test)\n",
    "    y_prediction_train = predict(parameters[\"weight\"], parameters[\"bias\"], x_train)\n",
    "\n",
    "\n",
    "    # train / test Errors \n",
    "    train_accuracy = 100 - np.mean(np.abs(y_prediction_train - y_train)) * 100\n",
    "    test_accuracy = 100 - np.mean(np.abs(y_prediction_test - y_test)) * 100\n",
    "    \n",
    "    print(\"train accuracy: {:.2f} %\".format(train_accuracy))\n",
    "    print(\"test accuracy: {:.2f} %\".format(test_accuracy))\n",
    "\n",
    "logistic_regression(x_train, y_train, x_test, y_test, learning_rate=0.01, num_iterations=100)"
   ]
  },
  {
   "cell_type": "code",
   "execution_count": null,
   "id": "72f0ccd3",
   "metadata": {},
   "outputs": [],
   "source": [
    "'''\n",
    "Logistic regression is a linear model used for binary classification problems. \n",
    "It models the probability of the default class (usually the positive class) given the input features.\n",
    "\n",
    "'''"
   ]
  }
 ],
 "metadata": {
  "kernelspec": {
   "display_name": "Python 3 (ipykernel)",
   "language": "python",
   "name": "python3"
  },
  "language_info": {
   "codemirror_mode": {
    "name": "ipython",
    "version": 3
   },
   "file_extension": ".py",
   "mimetype": "text/x-python",
   "name": "python",
   "nbconvert_exporter": "python",
   "pygments_lexer": "ipython3",
   "version": "3.9.7"
  }
 },
 "nbformat": 4,
 "nbformat_minor": 5
}
